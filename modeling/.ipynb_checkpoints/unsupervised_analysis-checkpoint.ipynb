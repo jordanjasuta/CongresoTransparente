{
 "cells": [
  {
   "cell_type": "markdown",
   "metadata": {},
   "source": [
    "## Load data"
   ]
  },
  {
   "cell_type": "code",
   "execution_count": 27,
   "metadata": {},
   "outputs": [],
   "source": [
    "import pandas as pd\n",
    "import string\n",
    "from stop_words import get_stop_words"
   ]
  },
  {
   "cell_type": "code",
   "execution_count": 37,
   "metadata": {},
   "outputs": [],
   "source": [
    "def cleanup_text(doc):\n",
    "    text = doc.translate(str.maketrans('', '', string.punctuation))\n",
    "    \n",
    "    #strip additional characters:\n",
    "    remove = ['”','“', '€','°','»','©']\n",
    "    for char in remove:\n",
    "        text = text.replace(char, '')\n",
    "    \n",
    "    text = text.lower()\n",
    "\n",
    "    #stopwords\n",
    "    stop_words = get_stop_words('spanish')\n",
    "    tokens = text.split()\n",
    "    text = [w for w in tokens if not w in stop_words]\n",
    "    text = ' '.join(text)\n",
    "    \n",
    "    return text\n",
    "\n",
    "def load_docs(path):\n",
    "    \"\"\"\n",
    "    loads docs in csv format\n",
    "    \"\"\"\n",
    "    df = pd.read_csv(path)\n",
    "    df['numero_PL'] = df['numero_fecha_PL'].apply(lambda x: x.split('-')[0][-4:])   # keeps only the last 4 digits of the PL number\n",
    "    df['texto'] = df['texto'].apply(lambda x: cleanup_text(x))\n",
    "    # print(df.head(10))\n",
    "    return df"
   ]
  },
  {
   "cell_type": "code",
   "execution_count": 38,
   "metadata": {},
   "outputs": [
    {
     "data": {
      "text/html": [
       "<div>\n",
       "<style scoped>\n",
       "    .dataframe tbody tr th:only-of-type {\n",
       "        vertical-align: middle;\n",
       "    }\n",
       "\n",
       "    .dataframe tbody tr th {\n",
       "        vertical-align: top;\n",
       "    }\n",
       "\n",
       "    .dataframe thead th {\n",
       "        text-align: right;\n",
       "    }\n",
       "</style>\n",
       "<table border=\"1\" class=\"dataframe\">\n",
       "  <thead>\n",
       "    <tr style=\"text-align: right;\">\n",
       "      <th></th>\n",
       "      <th>numero_fecha_PL</th>\n",
       "      <th>texto</th>\n",
       "      <th>index</th>\n",
       "      <th>numero_PL</th>\n",
       "    </tr>\n",
       "  </thead>\n",
       "  <tbody>\n",
       "    <tr>\n",
       "      <th>0</th>\n",
       "      <td>PL06839-20201219</td>\n",
       "      <td>congreso republica rolando campos villalobos c...</td>\n",
       "      <td>[0]</td>\n",
       "      <td>6839</td>\n",
       "    </tr>\n",
       "    <tr>\n",
       "      <th>1</th>\n",
       "      <td>PL06849-20201221</td>\n",
       "      <td>flee ze ue of mec ano universalf ne municipali...</td>\n",
       "      <td>[0]</td>\n",
       "      <td>6849</td>\n",
       "    </tr>\n",
       "    <tr>\n",
       "      <th>2</th>\n",
       "      <td>PL06799</td>\n",
       "      <td>ley modifica articulo 31 laley 30003 ley regul...</td>\n",
       "      <td>[0]</td>\n",
       "      <td>6799</td>\n",
       "    </tr>\n",
       "    <tr>\n",
       "      <th>3</th>\n",
       "      <td>PL06796-20201214</td>\n",
       "      <td>proyecto leyn6 276 2020 cr sccesoccereoe 124 p...</td>\n",
       "      <td>[0]</td>\n",
       "      <td>6796</td>\n",
       "    </tr>\n",
       "    <tr>\n",
       "      <th>4</th>\n",
       "      <td>PL06886-20201230</td>\n",
       "      <td>proyecto ley we sbe 2020 ce firmado digitalrne...</td>\n",
       "      <td>[0]</td>\n",
       "      <td>6886</td>\n",
       "    </tr>\n",
       "  </tbody>\n",
       "</table>\n",
       "</div>"
      ],
      "text/plain": [
       "    numero_fecha_PL                                              texto index  \\\n",
       "0  PL06839-20201219  congreso republica rolando campos villalobos c...   [0]   \n",
       "1  PL06849-20201221  flee ze ue of mec ano universalf ne municipali...   [0]   \n",
       "2           PL06799  ley modifica articulo 31 laley 30003 ley regul...   [0]   \n",
       "3  PL06796-20201214  proyecto leyn6 276 2020 cr sccesoccereoe 124 p...   [0]   \n",
       "4  PL06886-20201230  proyecto ley we sbe 2020 ce firmado digitalrne...   [0]   \n",
       "\n",
       "  numero_PL  \n",
       "0      6839  \n",
       "1      6849  \n",
       "2      6799  \n",
       "3      6796  \n",
       "4      6886  "
      ]
     },
     "execution_count": 38,
     "metadata": {},
     "output_type": "execute_result"
    }
   ],
   "source": [
    "docs = load_docs('../OCR/PL_sesion_12.2020.csv')\n",
    "docs.head()"
   ]
  },
  {
   "cell_type": "markdown",
   "metadata": {},
   "source": [
    "..."
   ]
  },
  {
   "cell_type": "code",
   "execution_count": 42,
   "metadata": {},
   "outputs": [
    {
     "data": {
      "image/png": "[encoded data removed]",
      "text/plain": [
       "<PIL.Image.Image image mode=RGB size=400x200 at 0x7F859B307710>"
      ]
     },
     "execution_count": 42,
     "metadata": {},
     "output_type": "execute_result"
    }
   ],
   "source": [
    "from wordcloud import WordCloud\n",
    "\n",
    "long_string = ','.join(list(docs['texto'].values))\n",
    "wordcloud = WordCloud(background_color=\"white\", max_words=50000, contour_width=3, contour_color='steelblue')\n",
    "wordcloud.generate(long_string)\n",
    "wordcloud.to_image()"
   ]
  },
  {
   "cell_type": "code",
   "execution_count": null,
   "metadata": {},
   "outputs": [],
   "source": []
  },
  {
   "cell_type": "markdown",
   "metadata": {},
   "source": [
    "## Lemmatize"
   ]
  },
  {
   "cell_type": "markdown",
   "metadata": {},
   "source": [
    "#### NOTE: Entity extraction would have to happen BEFORE lemmatization as it will mess with names"
   ]
  },
  {
   "cell_type": "code",
   "execution_count": 59,
   "metadata": {
    "scrolled": true
   },
   "outputs": [],
   "source": [
    "import spacy\n",
    "from spacy_spanish_lemmatizer import SpacyCustomLemmatizer\n",
    "# more info on rules based spanish lemmatizer at https://github.com/pablodms/spacy-spanish-lemmatizer"
   ]
  },
  {
   "cell_type": "code",
   "execution_count": 75,
   "metadata": {},
   "outputs": [],
   "source": [
    "# !python3 -m spacy download es\n",
    "# !pip3 install spacy_spanish_lemmatizer\n",
    "# !python3 -m pip install --upgrade spacy_spanish_lemmatizer\n",
    "# !python3 -m spacy_spanish_lemmatizer download wiki"
   ]
  },
  {
   "cell_type": "code",
   "execution_count": 91,
   "metadata": {},
   "outputs": [],
   "source": [
    "def lematizar(text):\n",
    "    nlp = spacy.load(\"es\")\n",
    "    lemmatizer = SpacyCustomLemmatizer()\n",
    "    nlp.add_pipe(lemmatizer, name=\"lemmatizer\", after=\"tagger\")\n",
    "    string = ''\n",
    "    for token in nlp(text):\n",
    "        string = string+' '+token.lemma_\n",
    "    \n",
    "    return string\n"
   ]
  },
  {
   "cell_type": "code",
   "execution_count": 92,
   "metadata": {},
   "outputs": [],
   "source": [
    "docs['texto'] = docs['texto'].apply(lambda x: lematizar(x))"
   ]
  },
  {
   "cell_type": "code",
   "execution_count": 94,
   "metadata": {},
   "outputs": [
    {
     "data": {
      "text/html": [
       "<div>\n",
       "<style scoped>\n",
       "    .dataframe tbody tr th:only-of-type {\n",
       "        vertical-align: middle;\n",
       "    }\n",
       "\n",
       "    .dataframe tbody tr th {\n",
       "        vertical-align: top;\n",
       "    }\n",
       "\n",
       "    .dataframe thead th {\n",
       "        text-align: right;\n",
       "    }\n",
       "</style>\n",
       "<table border=\"1\" class=\"dataframe\">\n",
       "  <thead>\n",
       "    <tr style=\"text-align: right;\">\n",
       "      <th></th>\n",
       "      <th>numero_fecha_PL</th>\n",
       "      <th>texto</th>\n",
       "      <th>index</th>\n",
       "      <th>numero_PL</th>\n",
       "    </tr>\n",
       "  </thead>\n",
       "  <tbody>\n",
       "    <tr>\n",
       "      <th>0</th>\n",
       "      <td>PL06839-20201219</td>\n",
       "      <td>congreso republica rolar campo villalobos con...</td>\n",
       "      <td>[0]</td>\n",
       "      <td>6839</td>\n",
       "    </tr>\n",
       "    <tr>\n",
       "      <th>1</th>\n",
       "      <td>PL06849-20201221</td>\n",
       "      <td>flee ze ue of mec ano universalf ne municipal...</td>\n",
       "      <td>[0]</td>\n",
       "      <td>6849</td>\n",
       "    </tr>\n",
       "    <tr>\n",
       "      <th>2</th>\n",
       "      <td>PL06799</td>\n",
       "      <td>ley modificar articular 31 laley 30003 ley re...</td>\n",
       "      <td>[0]</td>\n",
       "      <td>6799</td>\n",
       "    </tr>\n",
       "    <tr>\n",
       "      <th>3</th>\n",
       "      <td>PL06796-20201214</td>\n",
       "      <td>proyectar leyn6 276 2020 cr sccesoccereoe 124...</td>\n",
       "      <td>[0]</td>\n",
       "      <td>6796</td>\n",
       "    </tr>\n",
       "    <tr>\n",
       "      <th>4</th>\n",
       "      <td>PL06886-20201230</td>\n",
       "      <td>proyectar ley we sbe 2020 ce firmar digitalrn...</td>\n",
       "      <td>[0]</td>\n",
       "      <td>6886</td>\n",
       "    </tr>\n",
       "  </tbody>\n",
       "</table>\n",
       "</div>"
      ],
      "text/plain": [
       "    numero_fecha_PL                                              texto index  \\\n",
       "0  PL06839-20201219   congreso republica rolar campo villalobos con...   [0]   \n",
       "1  PL06849-20201221   flee ze ue of mec ano universalf ne municipal...   [0]   \n",
       "2           PL06799   ley modificar articular 31 laley 30003 ley re...   [0]   \n",
       "3  PL06796-20201214   proyectar leyn6 276 2020 cr sccesoccereoe 124...   [0]   \n",
       "4  PL06886-20201230   proyectar ley we sbe 2020 ce firmar digitalrn...   [0]   \n",
       "\n",
       "  numero_PL  \n",
       "0      6839  \n",
       "1      6849  \n",
       "2      6799  \n",
       "3      6796  \n",
       "4      6886  "
      ]
     },
     "execution_count": 94,
     "metadata": {},
     "output_type": "execute_result"
    }
   ],
   "source": [
    "docs.head()"
   ]
  },
  {
   "cell_type": "markdown",
   "metadata": {},
   "source": [
    "## Tf-idf vectoriztion"
   ]
  },
  {
   "cell_type": "code",
   "execution_count": 43,
   "metadata": {},
   "outputs": [],
   "source": [
    "from sklearn.feature_extraction.text import TfidfVectorizer,CountVectorizer"
   ]
  },
  {
   "cell_type": "code",
   "execution_count": 44,
   "metadata": {},
   "outputs": [],
   "source": [
    "# countvectorizer = CountVectorizer(analyzer= 'word')\n",
    "# count_wm = countvectorizer.fit_transform(docs['texto'])\n",
    "# count_tokens = countvectorizer.get_feature_names()"
   ]
  },
  {
   "cell_type": "code",
   "execution_count": 46,
   "metadata": {},
   "outputs": [],
   "source": []
  },
  {
   "cell_type": "code",
   "execution_count": 96,
   "metadata": {},
   "outputs": [],
   "source": [
    "tfidfvectorizer = TfidfVectorizer(analyzer='word')\n",
    "tfidf_wm = tfidfvectorizer.fit_transform(docs['texto'])\n",
    "tfidf_tokens = tfidfvectorizer.get_feature_names()"
   ]
  },
  {
   "cell_type": "code",
   "execution_count": 97,
   "metadata": {},
   "outputs": [],
   "source": [
    "df_tfidfvect = pd.DataFrame(data = tfidf_wm.toarray(),columns = tfidf_tokens)\n"
   ]
  },
  {
   "cell_type": "code",
   "execution_count": 98,
   "metadata": {},
   "outputs": [
    {
     "name": "stdout",
     "output_type": "stream",
     "text": [
      "\n",
      "TD-IDF Vectorizer\n",
      "\n",
      "           00       000  0000  00000  000000  00000000  000016202020  \\\n",
      "0    0.000000  0.000000   0.0    0.0     0.0       0.0           0.0   \n",
      "1    0.000000  0.000000   0.0    0.0     0.0       0.0           0.0   \n",
      "2    0.000000  0.000000   0.0    0.0     0.0       0.0           0.0   \n",
      "3    0.000000  0.000000   0.0    0.0     0.0       0.0           0.0   \n",
      "4    0.000000  0.000000   0.0    0.0     0.0       0.0           0.0   \n",
      "..        ...       ...   ...    ...     ...       ...           ...   \n",
      "115  0.012799  0.000000   0.0    0.0     0.0       0.0           0.0   \n",
      "116  0.000000  0.014882   0.0    0.0     0.0       0.0           0.0   \n",
      "117  0.000000  0.000000   0.0    0.0     0.0       0.0           0.0   \n",
      "118  0.000000  0.000000   0.0    0.0     0.0       0.0           0.0   \n",
      "119  0.000000  0.000000   0.0    0.0     0.0       0.0           0.0   \n",
      "\n",
      "     00002492020producedn  00003335  000062012ai  ...  ésccowccworoq  ésia  \\\n",
      "0                     0.0       0.0          0.0  ...            0.0   0.0   \n",
      "1                     0.0       0.0          0.0  ...            0.0   0.0   \n",
      "2                     0.0       0.0          0.0  ...            0.0   0.0   \n",
      "3                     0.0       0.0          0.0  ...            0.0   0.0   \n",
      "4                     0.0       0.0          0.0  ...            0.0   0.0   \n",
      "..                    ...       ...          ...  ...            ...   ...   \n",
      "115                   0.0       0.0          0.0  ...            0.0   0.0   \n",
      "116                   0.0       0.0          0.0  ...            0.0   0.0   \n",
      "117                   0.0       0.0          0.0  ...            0.0   0.0   \n",
      "118                   0.0       0.0          0.0  ...            0.0   0.0   \n",
      "119                   0.0       0.0          0.0  ...            0.0   0.0   \n",
      "\n",
      "        ético   étnico  étniea  étr  éxito  éxpedientes  éédscé  ídem  \n",
      "0    0.000000  0.00000     0.0  0.0    0.0          0.0     0.0   0.0  \n",
      "1    0.000000  0.00000     0.0  0.0    0.0          0.0     0.0   0.0  \n",
      "2    0.000000  0.00000     0.0  0.0    0.0          0.0     0.0   0.0  \n",
      "3    0.000000  0.00000     0.0  0.0    0.0          0.0     0.0   0.0  \n",
      "4    0.000000  0.00000     0.0  0.0    0.0          0.0     0.0   0.0  \n",
      "..        ...      ...     ...  ...    ...          ...     ...   ...  \n",
      "115  0.000000  0.00000     0.0  0.0    0.0          0.0     0.0   0.0  \n",
      "116  0.000000  0.00000     0.0  0.0    0.0          0.0     0.0   0.0  \n",
      "117  0.007996  0.00665     0.0  0.0    0.0          0.0     0.0   0.0  \n",
      "118  0.050423  0.00000     0.0  0.0    0.0          0.0     0.0   0.0  \n",
      "119  0.009912  0.00000     0.0  0.0    0.0          0.0     0.0   0.0  \n",
      "\n",
      "[120 rows x 28078 columns]\n"
     ]
    }
   ],
   "source": [
    "print(\"\\nTD-IDF Vectorizer\\n\")\n",
    "print(df_tfidfvect)"
   ]
  },
  {
   "cell_type": "markdown",
   "metadata": {},
   "source": [
    "## LDA "
   ]
  },
  {
   "cell_type": "code",
   "execution_count": 99,
   "metadata": {},
   "outputs": [],
   "source": [
    "import gensim.corpora as corpora"
   ]
  },
  {
   "cell_type": "code",
   "execution_count": 113,
   "metadata": {},
   "outputs": [
    {
     "name": "stdout",
     "output_type": "stream",
     "text": [
      " congreso republica rolar campo villalobos congresista republica ley proteccion laboral trabajador a\n",
      "0    [congreso, republica, rolar, campo, villalobos...\n",
      "1    [flee, ze, ue, of, mec, ano, universalf, ne, m...\n",
      "2    [ley, modificar, articular, 31, laley, 30003, ...\n",
      "3    [proyectar, leyn6, 276, 2020, cr, sccesoccereo...\n",
      "4    [proyectar, ley, we, sbe, 2020, ce, firmar, di...\n",
      "5    [pmapects, ley, it, 64982020, fi, dry, peele, ...\n",
      "6    [proyectar, ley, wgr1320, congreso, republica,...\n",
      "7    [pye, rehnaa, dd, ongeso2, 182020, cr, resoluc...\n",
      "8    [proyectar, ley, we, 6882, o2ocr, 44, dery, z,...\n",
      "9    [firrado, digitalmente, combinar, salvatjerra,...\n",
      "Name: texto, dtype: object\n"
     ]
    }
   ],
   "source": [
    "# concat all text\n",
    "all_words = docs['texto'].apply(lambda x: x.split())\n",
    "print(all_words[0:10])"
   ]
  },
  {
   "cell_type": "code",
   "execution_count": 114,
   "metadata": {
    "scrolled": false
   },
   "outputs": [],
   "source": [
    "id2word = corpora.Dictionary(all_words)"
   ]
  },
  {
   "cell_type": "code",
   "execution_count": 115,
   "metadata": {},
   "outputs": [
    {
     "name": "stdout",
     "output_type": "stream",
     "text": [
      "[(0, 1), (1, 3), (2, 1), (3, 1), (4, 1), (5, 1), (6, 1), (7, 1), (8, 1), (9, 1), (10, 1), (11, 1), (12, 4), (13, 1), (14, 1), (15, 1), (16, 1), (17, 1), (18, 6), (19, 1), (20, 7), (21, 1), (22, 1), (23, 2), (24, 1), (25, 1), (26, 1), (27, 3), (28, 1), (29, 1)]\n"
     ]
    }
   ],
   "source": [
    "texts = all_words\n",
    "corpus = [id2word.doc2bow(text) for text in texts]\n",
    "print(corpus[:1][0][:30])"
   ]
  },
  {
   "cell_type": "code",
   "execution_count": 117,
   "metadata": {},
   "outputs": [
    {
     "name": "stderr",
     "output_type": "stream",
     "text": [
      "WARNING:gensim.models.ldamulticore:too few updates, training might not converge; consider increasing the number of passes or iterations to improve accuracy\n"
     ]
    },
    {
     "name": "stdout",
     "output_type": "stream",
     "text": [
      "[(0,\n",
      "  '0.012*\"ley\" + 0.011*\"salud\" + 0.007*\"nacional\" + 0.007*\"republica\" + '\n",
      "  '0.007*\"articular\" + 0.006*\"congreso\" + 0.006*\"1\" + 0.005*\"derecho\" + '\n",
      "  '0.005*\"—\" + 0.004*\"peru\"'),\n",
      " (1,\n",
      "  '0.011*\"ley\" + 0.008*\"republica\" + 0.006*\"salud\" + 0.005*\"n\" + '\n",
      "  '0.005*\"nacional\" + 0.004*\"articular\" + 0.004*\"publicar\" + 0.004*\"congreso\" '\n",
      "  '+ 0.004*\"desarrollar\" + 0.003*\"servicio\"'),\n",
      " (2,\n",
      "  '0.010*\"ley\" + 0.009*\"articular\" + 0.006*\"nacional\" + 0.005*\"congreso\" + '\n",
      "  '0.005*\"republica\" + 0.005*\"—\" + 0.004*\"proyectar\" + 0.004*\"presentar\" + '\n",
      "  '0.004*\"salud\" + 0.004*\"derecho\"'),\n",
      " (3,\n",
      "  '0.011*\"ley\" + 0.009*\"salud\" + 0.009*\"n\" + 0.008*\"republica\" + '\n",
      "  '0.006*\"nacional\" + 0.005*\"peru\" + 0.005*\"congreso\" + 0.005*\"presentar\" + '\n",
      "  '0.005*\"servicio\" + 0.005*\"articular\"'),\n",
      " (4,\n",
      "  '0.010*\"ley\" + 0.007*\"republica\" + 0.007*\"articular\" + 0.005*\"salud\" + '\n",
      "  '0.005*\"presentar\" + 0.005*\"nacional\" + 0.004*\"congreso\" + 0.004*\"n\" + '\n",
      "  '0.004*\"oportunidad\" + 0.004*\"—\"'),\n",
      " (5,\n",
      "  '0.007*\"salud\" + 0.007*\"republica\" + 0.006*\"ley\" + 0.006*\"articular\" + '\n",
      "  '0.005*\"n\" + 0.005*\"nacional\" + 0.005*\"congreso\" + 0.005*\"—\" + '\n",
      "  '0.004*\"presentar\" + 0.004*\"publicar\"'),\n",
      " (6,\n",
      "  '0.011*\"ley\" + 0.007*\"nacional\" + 0.007*\"republica\" + 0.006*\"articular\" + '\n",
      "  '0.006*\"salud\" + 0.006*\"congreso\" + 0.005*\"n\" + 0.004*\"—\" + 0.004*\"poder\" + '\n",
      "  '0.004*\"presentar\"'),\n",
      " (7,\n",
      "  '0.010*\"ley\" + 0.008*\"articular\" + 0.006*\"republica\" + 0.005*\"congreso\" + '\n",
      "  '0.005*\"nacional\" + 0.004*\"salud\" + 0.004*\"proyectar\" + 0.004*\"poder\" + '\n",
      "  '0.004*\"publicar\" + 0.003*\"n\"'),\n",
      " (8,\n",
      "  '0.008*\"ley\" + 0.007*\"articular\" + 0.006*\"nacional\" + 0.006*\"republica\" + '\n",
      "  '0.006*\"salud\" + 0.005*\"mujer\" + 0.004*\"congreso\" + 0.004*\"derecho\" + '\n",
      "  '0.004*\"presentar\" + 0.004*\"publicar\"'),\n",
      " (9,\n",
      "  '0.010*\"ley\" + 0.009*\"articular\" + 0.008*\"republica\" + 0.007*\"salud\" + '\n",
      "  '0.005*\"congreso\" + 0.005*\"nacional\" + 0.004*\"mujer\" + 0.004*\"derecho\" + '\n",
      "  '0.004*\"fecho\" + 0.004*\"publicar\"')]\n"
     ]
    }
   ],
   "source": [
    "import gensim\n",
    "from pprint import pprint\n",
    "# number of topics\n",
    "num_topics = 10\n",
    "# Build LDA model\n",
    "lda_model = gensim.models.LdaMulticore(corpus=corpus,\n",
    "                                       id2word=id2word,\n",
    "                                       num_topics=num_topics)\n",
    "# Print the Keyword in the 10 topics\n",
    "pprint(lda_model.print_topics())\n",
    "doc_lda = lda_model[corpus]"
   ]
  },
  {
   "cell_type": "code",
   "execution_count": 124,
   "metadata": {},
   "outputs": [
    {
     "name": "stderr",
     "output_type": "stream",
     "text": [
      "/Library/Frameworks/Python.framework/Versions/3.7/lib/python3.7/site-packages/pyLDAvis/_prepare.py:257: FutureWarning: Sorting because non-concatenation axis is not aligned. A future version\n",
      "of pandas will change to not sort by default.\n",
      "\n",
      "To accept the future behavior, pass 'sort=False'.\n",
      "\n",
      "To retain the current behavior and silence the warning, pass 'sort=True'.\n",
      "\n",
      "  return pd.concat([default_term_info] + list(topic_dfs))\n"
     ]
    },
    {
     "ename": "FileNotFoundError",
     "evalue": "[Errno 2] No such file or directory: './results/ldavis_prepared_10'",
     "output_type": "error",
     "traceback": [
      "\u001b[0;31m---------------------------------------------------------------------------\u001b[0m",
      "\u001b[0;31mFileNotFoundError\u001b[0m                         Traceback (most recent call last)",
      "\u001b[0;32m<ipython-input-124-023644acded4>\u001b[0m in \u001b[0;36m<module>\u001b[0;34m\u001b[0m\n\u001b[1;32m     10\u001b[0m \u001b[0;32mif\u001b[0m \u001b[0;36m1\u001b[0m \u001b[0;34m==\u001b[0m \u001b[0;36m1\u001b[0m\u001b[0;34m:\u001b[0m\u001b[0;34m\u001b[0m\u001b[0;34m\u001b[0m\u001b[0m\n\u001b[1;32m     11\u001b[0m     \u001b[0mLDAvis_prepared\u001b[0m \u001b[0;34m=\u001b[0m \u001b[0mpyLDAvis\u001b[0m\u001b[0;34m.\u001b[0m\u001b[0mgensim\u001b[0m\u001b[0;34m.\u001b[0m\u001b[0mprepare\u001b[0m\u001b[0;34m(\u001b[0m\u001b[0mlda_model\u001b[0m\u001b[0;34m,\u001b[0m \u001b[0mcorpus\u001b[0m\u001b[0;34m,\u001b[0m \u001b[0mid2word\u001b[0m\u001b[0;34m)\u001b[0m\u001b[0;34m\u001b[0m\u001b[0;34m\u001b[0m\u001b[0m\n\u001b[0;32m---> 12\u001b[0;31m     \u001b[0;32mwith\u001b[0m \u001b[0mopen\u001b[0m\u001b[0;34m(\u001b[0m\u001b[0mLDAvis_data_filepath\u001b[0m\u001b[0;34m,\u001b[0m \u001b[0;34m'wb'\u001b[0m\u001b[0;34m)\u001b[0m \u001b[0;32mas\u001b[0m \u001b[0mf\u001b[0m\u001b[0;34m:\u001b[0m\u001b[0;34m\u001b[0m\u001b[0;34m\u001b[0m\u001b[0m\n\u001b[0m\u001b[1;32m     13\u001b[0m         \u001b[0mpickle\u001b[0m\u001b[0;34m.\u001b[0m\u001b[0mdump\u001b[0m\u001b[0;34m(\u001b[0m\u001b[0mLDAvis_prepared\u001b[0m\u001b[0;34m,\u001b[0m \u001b[0mf\u001b[0m\u001b[0;34m)\u001b[0m\u001b[0;34m\u001b[0m\u001b[0;34m\u001b[0m\u001b[0m\n\u001b[1;32m     14\u001b[0m \u001b[0;31m# load the pre-prepared pyLDAvis data from disk\u001b[0m\u001b[0;34m\u001b[0m\u001b[0;34m\u001b[0m\u001b[0;34m\u001b[0m\u001b[0m\n",
      "\u001b[0;31mFileNotFoundError\u001b[0m: [Errno 2] No such file or directory: './results/ldavis_prepared_10'"
     ]
    }
   ],
   "source": [
    "import pyLDAvis.gensim\n",
    "import pickle \n",
    "import pyLDAvis\n",
    "import os\n",
    "\n",
    "pyLDAvis.enable_notebook()\n",
    "LDAvis_data_filepath = os.path.join('./results/ldavis_prepared.pkl')\n",
    "# # this is a bit time consuming - make the if statement True\n",
    "# # if you want to execute visualization prep yourself\n",
    "if 1 == 1:\n",
    "    LDAvis_prepared = pyLDAvis.gensim.prepare(lda_model, corpus, id2word)\n",
    "    with open(LDAvis_data_filepath, 'wb') as f:\n",
    "        pickle.dump(LDAvis_prepared, f)\n",
    "# load the pre-prepared pyLDAvis data from disk\n",
    "with open(LDAvis_data_filepath, 'rb') as f:\n",
    "    LDAvis_prepared = pickle.load(f)\n",
    "pyLDAvis.save_html(LDAvis_prepared, './results/ldavis_prepared_'+ str(num_topics) +'.html')\n",
    "LDAvis_prepared"
   ]
  },
  {
   "cell_type": "code",
   "execution_count": null,
   "metadata": {},
   "outputs": [],
   "source": []
  }
 ],
 "metadata": {
  "kernelspec": {
   "display_name": "Python 3",
   "language": "python",
   "name": "python3"
  },
  "language_info": {
   "codemirror_mode": {
    "name": "ipython",
    "version": 3
   },
   "file_extension": ".py",
   "mimetype": "text/x-python",
   "name": "python",
   "nbconvert_exporter": "python",
   "pygments_lexer": "ipython3",
   "version": "3.7.4"
  }
 },
 "nbformat": 4,
 "nbformat_minor": 2
}
